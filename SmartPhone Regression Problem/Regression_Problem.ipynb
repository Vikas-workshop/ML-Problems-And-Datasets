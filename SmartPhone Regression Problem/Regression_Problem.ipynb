{
  "nbformat": 4,
  "nbformat_minor": 0,
  "metadata": {
    "colab": {
      "provenance": []
    },
    "kernelspec": {
      "name": "python3",
      "display_name": "Python 3"
    },
    "language_info": {
      "name": "python"
    }
  },
  "cells": [
    {
      "cell_type": "code",
      "execution_count": 46,
      "metadata": {
        "colab": {
          "base_uri": "https://localhost:8080/"
        },
        "id": "y-4linVoF70e",
        "outputId": "b6c7d73a-9fda-458c-91b2-efa81ad0477d"
      },
      "outputs": [
        {
          "output_type": "stream",
          "name": "stdout",
          "text": [
            "Mean Squared Error: 610783574.3391283\n",
            "R-squared Score: 0.2628327665720892\n"
          ]
        }
      ],
      "source": [
        "import pandas as pd\n",
        "# reading csv files\n",
        "dataset = pd.read_csv(\"smartphones.csv\")\n",
        "\n",
        "# checking the data sample\n",
        "# dataset.head()\n",
        "\n",
        "# to check the dataset of colums type\n",
        "# dataset.info()\n",
        "\n",
        "# checking the shape of a dataset\n",
        "# dataset.shape()\n",
        "\n",
        "# checking any null value is there in whole columns\n",
        "# dataset.isnull().sum()\n",
        "\n",
        "# droping the null values of columns and checking the columns\n",
        "dataset.dropna(inplace=True)\n",
        "# dataset.isnull().sum()\n",
        "\n",
        "# now importing the labelEnconder to convert the text into a number\n",
        "from sklearn.preprocessing import LabelEncoder\n",
        "label_encoder = LabelEncoder()\n",
        "\n",
        "# to see the value of some specific column which is repeated or not\n",
        "dataset['model'].value_counts()\n",
        "\n",
        "# to see or get the whole columns of the dataset\n",
        "dataset.columns\n",
        "\n",
        "# now get the whole column of dataset and convert it into a number removed two colums 'price', 'rating',\n",
        "# because rating is already a number and i dont want to assign random number to price\n",
        "colums  =['model', 'sim', 'processor', 'ram', 'battery','display', 'camera', 'card', 'os']\n",
        "for col in colums:\n",
        "    dataset[col] = label_encoder.fit_transform(dataset[col])\n",
        "\n",
        "# now here the whole columns are assigned as a number exepted the price column\n",
        "dataset.head()\n",
        "\n",
        "# lets purify the price column into a number only\n",
        "# because i want to predict the price\n",
        "\n",
        "# this function returns the series of price in a form of array of integers\n",
        "def purify_price(priceSeries):\n",
        "  priceLst = []\n",
        "  for price in priceSeries:\n",
        "    purifyPrice = price.replace(\",\",\"\").replace(\"₹\",\"\")\n",
        "    priceLst.append(int(purifyPrice))\n",
        "  return priceLst\n",
        "\n",
        "# here i'm assigning the new price series into a price column of dataset\n",
        "dataset[\"price\"] = purify_price(dataset[\"price\"])\n",
        "\n",
        "\n",
        "# this problem is a regression problem because we have to predict the price(integers) of the smartphone\n",
        "# now i m using the linear regression model for this problem\n",
        "from sklearn.model_selection import train_test_split\n",
        "from sklearn.linear_model import LinearRegression\n",
        "\n",
        "# here i m take the whole columns of dataset except the price column in variable x\n",
        "X = dataset[colums]\n",
        "# and y is predicted element\n",
        "y = dataset['price']\n",
        "\n",
        "# Split data into training and testing sets\n",
        "X_train, X_test, y_train, y_test = train_test_split(X, y, test_size=0.3, random_state=42)\n",
        "\n",
        "# Create a linear regression model\n",
        "model = LinearRegression()\n",
        "\n",
        "# Train the model on the training data\n",
        "model.fit(X_train,y_train)\n",
        "\n",
        "# Make predictions on the testing data\n",
        "y_pred = model.predict(X_test)\n",
        "\n",
        "# now checking the mean squared error\n",
        "from sklearn.metrics import mean_squared_error\n",
        "mse = mean_squared_error(y_test, y_pred)\n",
        "print(\"Mean Squared Error:\", mse)\n",
        "\n",
        "# Optionally, you can also check the R-squared score\n",
        "from sklearn.metrics import r2_score\n",
        "r2 = r2_score(y_test, y_pred)\n",
        "print(f'R-squared Score: {r2}')\n"
      ]
    },
    {
      "cell_type": "code",
      "source": [],
      "metadata": {
        "id": "MHwOAAVsHwSX"
      },
      "execution_count": 42,
      "outputs": []
    }
  ]
}